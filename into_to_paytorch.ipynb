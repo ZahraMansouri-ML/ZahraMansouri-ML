{
  "nbformat": 4,
  "nbformat_minor": 0,
  "metadata": {
    "colab": {
      "provenance": [],
      "gpuType": "T4",
      "authorship_tag": "ABX9TyPr40eqH1dgRM0O5POzxveo",
      "include_colab_link": true
    },
    "kernelspec": {
      "name": "python3",
      "display_name": "Python 3"
    },
    "language_info": {
      "name": "python"
    },
    "accelerator": "GPU"
  },
  "cells": [
    {
      "cell_type": "markdown",
      "metadata": {
        "id": "view-in-github",
        "colab_type": "text"
      },
      "source": [
        "<a href=\"https://colab.research.google.com/github/ZahraMansouri-ML/ZahraMansouri-ML/blob/main/into_to_paytorch.ipynb\" target=\"_parent\"><img src=\"https://colab.research.google.com/assets/colab-badge.svg\" alt=\"Open In Colab\"/></a>"
      ]
    },
    {
      "cell_type": "code",
      "source": [
        "#paytorch is a library for doing NN\n",
        "#PyTorch is a machine learning library based on the Torch library,\n",
        "# used for applications such as computer vision and natural language processing, originally developed by Meta AI and now part of the Linux Foundation umbrella."
      ],
      "metadata": {
        "id": "SLrcIObXQTJx"
      },
      "execution_count": 27,
      "outputs": []
    },
    {
      "cell_type": "markdown",
      "source": [
        "First of all, let us install PyTorch and sklearn, two non-standard packages written for Python that we will use in this class.\n",
        "This is achieved by using \"!\" magic in Google Colab, which indicates this is not a Python sentence and will behave like a shell command line. Try it and you will expect an automatic download and installation done by pip (-q means silent execution)."
      ],
      "metadata": {
        "id": "49kL7STQU0HW"
      }
    },
    {
      "cell_type": "code",
      "source": [
        "!pip install -q torch torchvision"
      ],
      "metadata": {
        "id": "S6JOv2WRUyGK"
      },
      "execution_count": 1,
      "outputs": []
    },
    {
      "cell_type": "code",
      "execution_count": 1,
      "metadata": {
        "id": "FdXJWoAzA-EX"
      },
      "outputs": [],
      "source": [
        "import numpy as np\n",
        "\n",
        "import torch\n",
        "import torch.nn as nn\n",
        "import torch.nn.functional as fn\n",
        "import torchvision\n",
        "\n",
        "import sklearn\n",
        "import matplotlib.pyplot as plt\n",
        "\n",
        "from PIL import Image"
      ]
    },
    {
      "cell_type": "code",
      "source": [
        "#a tensor with ten number\n",
        "my_torch = torch.arange(10)\n",
        "my_torch"
      ],
      "metadata": {
        "colab": {
          "base_uri": "https://localhost:8080/"
        },
        "id": "lGpPZYCdKpo-",
        "outputId": "a698f3d0-b02d-42e1-eba9-e74471a9472d"
      },
      "execution_count": 3,
      "outputs": [
        {
          "output_type": "execute_result",
          "data": {
            "text/plain": [
              "tensor([0, 1, 2, 3, 4, 5, 6, 7, 8, 9])"
            ]
          },
          "metadata": {},
          "execution_count": 3
        }
      ]
    },
    {
      "cell_type": "markdown",
      "source": [
        "#differences between shape and view\n",
        "https://stackoverflow.com/questions/49643225/whats-the-difference-between-reshape-and-view-in-pytorch"
      ],
      "metadata": {
        "id": "sBDl38jVM_Ub"
      }
    },
    {
      "cell_type": "code",
      "source": [
        "#reshape and view are very similar\n",
        "#reshape\n",
        "#we have 10 vaue and we want to divide it into two matrix with 5 number each\n",
        "#we will get 2*5 matrixes\n",
        "my_torch = my_torch.reshape(2,5)\n",
        "my_torch"
      ],
      "metadata": {
        "colab": {
          "base_uri": "https://localhost:8080/"
        },
        "id": "mUS-rv64K7Df",
        "outputId": "55139a08-f61c-46cd-ca2b-cd7d9921cbd1"
      },
      "execution_count": 13,
      "outputs": [
        {
          "output_type": "execute_result",
          "data": {
            "text/plain": [
              "tensor([[0, 1, 2, 3, 4],\n",
              "        [5, 6, 7, 8, 9]])"
            ]
          },
          "metadata": {},
          "execution_count": 13
        }
      ]
    },
    {
      "cell_type": "code",
      "source": [
        "#reshape if we do not know the number of items when dealing with big data but we want to have 2 matrixes using -1\n",
        "my_torch2 = torch.arange(10)\n",
        "my_torch2"
      ],
      "metadata": {
        "colab": {
          "base_uri": "https://localhost:8080/"
        },
        "id": "lA4f6xXzLQCC",
        "outputId": "cdc38a1b-06ed-47e5-89b4-9f754f4dee12"
      },
      "execution_count": 10,
      "outputs": [
        {
          "output_type": "execute_result",
          "data": {
            "text/plain": [
              "tensor([0, 1, 2, 3, 4, 5, 6, 7, 8, 9])"
            ]
          },
          "metadata": {},
          "execution_count": 10
        }
      ]
    },
    {
      "cell_type": "code",
      "source": [
        "my_torch2 = my_torch2.reshape(2,-1)\n",
        "my_torch2"
      ],
      "metadata": {
        "colab": {
          "base_uri": "https://localhost:8080/"
        },
        "id": "2tML6z_eLhnV",
        "outputId": "b486ef1d-c72a-4f44-e9b8-f400ca83e45c"
      },
      "execution_count": 8,
      "outputs": [
        {
          "output_type": "execute_result",
          "data": {
            "text/plain": [
              "tensor([[0, 1, 2, 3, 4],\n",
              "        [5, 6, 7, 8, 9]])"
            ]
          },
          "metadata": {},
          "execution_count": 8
        }
      ]
    },
    {
      "cell_type": "code",
      "source": [
        "#also we can devide torch into unknown number of matrixes but each have 5 number\n",
        "my_torch2 = my_torch2.reshape(-1,2)\n",
        "my_torch2"
      ],
      "metadata": {
        "colab": {
          "base_uri": "https://localhost:8080/"
        },
        "id": "vO457pJTMCF3",
        "outputId": "747daef1-6786-41b1-aeec-7ea7417f64d7"
      },
      "execution_count": 14,
      "outputs": [
        {
          "output_type": "execute_result",
          "data": {
            "text/plain": [
              "tensor([[0, 1],\n",
              "        [2, 3],\n",
              "        [4, 5],\n",
              "        [6, 7],\n",
              "        [8, 9]])"
            ]
          },
          "metadata": {},
          "execution_count": 14
        }
      ]
    },
    {
      "cell_type": "code",
      "source": [
        "my_torch3 = torch.arange(10)\n",
        "my_torch3"
      ],
      "metadata": {
        "colab": {
          "base_uri": "https://localhost:8080/"
        },
        "id": "RrmLMjkbMhoQ",
        "outputId": "9da2fd68-4563-427c-9832-df10b0ad9526"
      },
      "execution_count": 15,
      "outputs": [
        {
          "output_type": "execute_result",
          "data": {
            "text/plain": [
              "tensor([0, 1, 2, 3, 4, 5, 6, 7, 8, 9])"
            ]
          },
          "metadata": {},
          "execution_count": 15
        }
      ]
    },
    {
      "cell_type": "code",
      "source": [
        "#view\n",
        "my_torch4 = my_torch3.view(2,5)\n",
        "my_torch4"
      ],
      "metadata": {
        "colab": {
          "base_uri": "https://localhost:8080/"
        },
        "id": "LNHdPtl9Mkqb",
        "outputId": "1606f80c-040e-47f6-a58a-9c8e8cb9449e"
      },
      "execution_count": 17,
      "outputs": [
        {
          "output_type": "execute_result",
          "data": {
            "text/plain": [
              "tensor([[0, 1, 2, 3, 4],\n",
              "        [5, 6, 7, 8, 9]])"
            ]
          },
          "metadata": {},
          "execution_count": 17
        }
      ]
    },
    {
      "cell_type": "code",
      "source": [
        "#chaning an item in tensor\n",
        "my_torch3[1] = 100\n",
        "my_torch3"
      ],
      "metadata": {
        "colab": {
          "base_uri": "https://localhost:8080/"
        },
        "id": "v6xghQyqNh2S",
        "outputId": "691d6720-94bd-4785-a21f-01060548303f"
      },
      "execution_count": 19,
      "outputs": [
        {
          "output_type": "execute_result",
          "data": {
            "text/plain": [
              "tensor([  0, 100,   2,   3,   4,   5,   6,   7,   8,   9])"
            ]
          },
          "metadata": {},
          "execution_count": 19
        }
      ]
    },
    {
      "cell_type": "code",
      "source": [
        "#slice : grabbing a section of the tensor or specific item\n",
        "my_torch5 = torch.arange(10)\n",
        "my_torch5"
      ],
      "metadata": {
        "colab": {
          "base_uri": "https://localhost:8080/"
        },
        "id": "E938Kt1SOP-S",
        "outputId": "f41c1c65-fba9-46bf-b692-f7f73482a46c"
      },
      "execution_count": 20,
      "outputs": [
        {
          "output_type": "execute_result",
          "data": {
            "text/plain": [
              "tensor([0, 1, 2, 3, 4, 5, 6, 7, 8, 9])"
            ]
          },
          "metadata": {},
          "execution_count": 20
        }
      ]
    },
    {
      "cell_type": "code",
      "source": [
        "# the index numbers start from zero\n",
        "#here we want to grab the seventh item not seven\n",
        "my_torch5[7]"
      ],
      "metadata": {
        "colab": {
          "base_uri": "https://localhost:8080/"
        },
        "id": "rQ3DsHN4OcpH",
        "outputId": "146dcd19-9456-40a3-dc41-3cdba4d738d4"
      },
      "execution_count": 22,
      "outputs": [
        {
          "output_type": "execute_result",
          "data": {
            "text/plain": [
              "tensor(7)"
            ]
          },
          "metadata": {},
          "execution_count": 22
        }
      ]
    },
    {
      "cell_type": "markdown",
      "source": [],
      "metadata": {
        "id": "_7Pu_xA9NP4C"
      }
    },
    {
      "cell_type": "code",
      "source": [
        "my_torch6 = my_torch5.reshape(5,2)\n",
        "my_torch6"
      ],
      "metadata": {
        "colab": {
          "base_uri": "https://localhost:8080/"
        },
        "id": "k9tZTlUUO4Fb",
        "outputId": "05896454-8e0f-4643-b124-4404cafc91d6"
      },
      "execution_count": 23,
      "outputs": [
        {
          "output_type": "execute_result",
          "data": {
            "text/plain": [
              "tensor([[0, 1],\n",
              "        [2, 3],\n",
              "        [4, 5],\n",
              "        [6, 7],\n",
              "        [8, 9]])"
            ]
          },
          "metadata": {},
          "execution_count": 23
        }
      ]
    },
    {
      "cell_type": "code",
      "source": [
        "#we want to select the second column\n",
        "#columns start at zero\n",
        "my_torch6[:,1]"
      ],
      "metadata": {
        "colab": {
          "base_uri": "https://localhost:8080/"
        },
        "id": "2C-C2PVKPIxV",
        "outputId": "716118a8-580b-4609-f51e-8d2ebcb2511d"
      },
      "execution_count": 25,
      "outputs": [
        {
          "output_type": "execute_result",
          "data": {
            "text/plain": [
              "tensor([1, 3, 5, 7, 9])"
            ]
          },
          "metadata": {},
          "execution_count": 25
        }
      ]
    },
    {
      "cell_type": "code",
      "source": [
        "#but it is look like a row so we want to turn it to column shape\n",
        "my_torch6 [:,1:]"
      ],
      "metadata": {
        "colab": {
          "base_uri": "https://localhost:8080/"
        },
        "id": "tsF62CZoPXh1",
        "outputId": "462032aa-20de-4bde-f351-afd835702fff"
      },
      "execution_count": 26,
      "outputs": [
        {
          "output_type": "execute_result",
          "data": {
            "text/plain": [
              "tensor([[1],\n",
              "        [3],\n",
              "        [5],\n",
              "        [7],\n",
              "        [9]])"
            ]
          },
          "metadata": {},
          "execution_count": 26
        }
      ]
    },
    {
      "cell_type": "code",
      "source": [
        "data =[[1,2], [3,4]]"
      ],
      "metadata": {
        "id": "Mfg77lkWBOet"
      },
      "execution_count": null,
      "outputs": []
    },
    {
      "cell_type": "code",
      "source": [
        "torch.tensor(data)"
      ],
      "metadata": {
        "colab": {
          "base_uri": "https://localhost:8080/"
        },
        "id": "-5fSRWAbBH8J",
        "outputId": "874cba89-abfb-4a71-8283-a8104a7b9aaa"
      },
      "execution_count": null,
      "outputs": [
        {
          "output_type": "execute_result",
          "data": {
            "text/plain": [
              "tensor([[1, 2],\n",
              "        [3, 4]])"
            ]
          },
          "metadata": {},
          "execution_count": 4
        }
      ]
    },
    {
      "cell_type": "code",
      "source": [
        "zeroes_tensor = torch.zeros (3,4)\n",
        "zeroes_tensor"
      ],
      "metadata": {
        "colab": {
          "base_uri": "https://localhost:8080/"
        },
        "id": "pj6z3v7wBZsu",
        "outputId": "2b1be76d-3ce6-40aa-97db-ecdee96b6262"
      },
      "execution_count": null,
      "outputs": [
        {
          "output_type": "execute_result",
          "data": {
            "text/plain": [
              "tensor([[0., 0., 0., 0.],\n",
              "        [0., 0., 0., 0.],\n",
              "        [0., 0., 0., 0.]])"
            ]
          },
          "metadata": {},
          "execution_count": 8
        }
      ]
    },
    {
      "cell_type": "code",
      "source": [
        "ones_tensor =  torch.ones (3,4)\n",
        "ones_tensor"
      ],
      "metadata": {
        "colab": {
          "base_uri": "https://localhost:8080/"
        },
        "id": "v4QHIc5SBu82",
        "outputId": "b87fd80b-e318-4e19-f43d-34d18b4bbc9c"
      },
      "execution_count": null,
      "outputs": [
        {
          "output_type": "execute_result",
          "data": {
            "text/plain": [
              "tensor([[1., 1., 1., 1.],\n",
              "        [1., 1., 1., 1.],\n",
              "        [1., 1., 1., 1.]])"
            ]
          },
          "metadata": {},
          "execution_count": 9
        }
      ]
    },
    {
      "cell_type": "code",
      "source": [
        "eye_tensor = torch.eye (3)\n",
        "eye_tensor"
      ],
      "metadata": {
        "colab": {
          "base_uri": "https://localhost:8080/"
        },
        "id": "qUePtHjHCEQO",
        "outputId": "1e78c069-54be-4823-df43-4e223e06412d"
      },
      "execution_count": null,
      "outputs": [
        {
          "output_type": "execute_result",
          "data": {
            "text/plain": [
              "tensor([[1., 0., 0.],\n",
              "        [0., 1., 0.],\n",
              "        [0., 0., 1.]])"
            ]
          },
          "metadata": {},
          "execution_count": 10
        }
      ]
    },
    {
      "cell_type": "code",
      "source": [
        "#creating a random tensor\n",
        "rand_tensor = torch.rand (3,4)\n",
        "rand_tensor"
      ],
      "metadata": {
        "colab": {
          "base_uri": "https://localhost:8080/"
        },
        "id": "57n1dabpCKtm",
        "outputId": "fa0591d8-8b3f-4fbc-84a6-37b1abcbbd31"
      },
      "execution_count": null,
      "outputs": [
        {
          "output_type": "execute_result",
          "data": {
            "text/plain": [
              "tensor([[0.6719, 0.8951, 0.0984, 0.5540],\n",
              "        [0.2088, 0.8054, 0.2321, 0.6996],\n",
              "        [0.8204, 0.3129, 0.9200, 0.3260]])"
            ]
          },
          "metadata": {},
          "execution_count": 11
        }
      ]
    },
    {
      "cell_type": "code",
      "source": [
        "#creating a random tensor with normal values\n",
        "randn_tensor = torch.randn (3,4)\n",
        "randn_tensor"
      ],
      "metadata": {
        "colab": {
          "base_uri": "https://localhost:8080/"
        },
        "id": "oOvf3LDNCYvY",
        "outputId": "70f92923-db50-4222-f2b8-a5477aced7c5"
      },
      "execution_count": null,
      "outputs": [
        {
          "output_type": "execute_result",
          "data": {
            "text/plain": [
              "tensor([[-0.4619,  1.1118,  0.0324, -1.3546],\n",
              "        [-0.3334,  0.8055, -0.8321, -1.6651],\n",
              "        [-2.1412,  0.2219, -2.0417, -0.2494]])"
            ]
          },
          "metadata": {},
          "execution_count": 15
        }
      ]
    },
    {
      "cell_type": "code",
      "source": [
        "#creating a random tensor with intiger values  and it needed the minimum and maximum limitation\n",
        "randint_tensor = torch.randint (1,10 , (3,4))\n",
        "randint_tensor"
      ],
      "metadata": {
        "colab": {
          "base_uri": "https://localhost:8080/"
        },
        "id": "jFKCjsuQCoBo",
        "outputId": "190bdab8-4fec-4a4a-b6ff-d4e6d70addc2"
      },
      "execution_count": null,
      "outputs": [
        {
          "output_type": "execute_result",
          "data": {
            "text/plain": [
              "tensor([[4, 1, 6, 8],\n",
              "        [2, 2, 4, 4],\n",
              "        [4, 5, 6, 2]])"
            ]
          },
          "metadata": {},
          "execution_count": 18
        }
      ]
    },
    {
      "cell_type": "markdown",
      "source": [
        "when we have a basic tensor and we want to bult other tensors based on the other tensor dimentions"
      ],
      "metadata": {
        "id": "_nh9_8noDMMs"
      }
    },
    {
      "cell_type": "code",
      "source": [
        "base= [[1,2,3],\n",
        "       [4,5,6],\n",
        "       [7,8,9]]"
      ],
      "metadata": {
        "id": "4vfJOfBMDT1H"
      },
      "execution_count": null,
      "outputs": []
    },
    {
      "cell_type": "code",
      "source": [
        "base_tensor = torch.tensor (base, dtype=torch.float32)\n",
        "base_tensor"
      ],
      "metadata": {
        "colab": {
          "base_uri": "https://localhost:8080/"
        },
        "id": "2rM0qpe9Dkfv",
        "outputId": "f197eb37-ded2-4ecb-acfd-9d28d46dc75f"
      },
      "execution_count": null,
      "outputs": [
        {
          "output_type": "execute_result",
          "data": {
            "text/plain": [
              "tensor([[1., 2., 3.],\n",
              "        [4., 5., 6.],\n",
              "        [7., 8., 9.]])"
            ]
          },
          "metadata": {},
          "execution_count": 25
        }
      ]
    },
    {
      "cell_type": "markdown",
      "source": [
        "based on the base torch we defined random tensor with the same size with the command of \"like\""
      ],
      "metadata": {
        "id": "NWLGaC1kEZNI"
      }
    },
    {
      "cell_type": "code",
      "source": [
        "randlike_tensor = torch.rand_like(base_tensor) # we give base_tensor as the input\n",
        "randlike_tensor"
      ],
      "metadata": {
        "colab": {
          "base_uri": "https://localhost:8080/"
        },
        "id": "L6JdRaeLDtFL",
        "outputId": "38fa3a4b-ba5a-42c3-875c-919f782b6c69"
      },
      "execution_count": null,
      "outputs": [
        {
          "output_type": "execute_result",
          "data": {
            "text/plain": [
              "tensor([[0.5494, 0.2602, 0.7352],\n",
              "        [0.7898, 0.1579, 0.3268],\n",
              "        [0.4641, 0.1369, 0.0677]])"
            ]
          },
          "metadata": {},
          "execution_count": 26
        }
      ]
    },
    {
      "cell_type": "code",
      "source": [
        "randint_like_tensor = torch.randint_like (base_tensor, 1,10)\n",
        "randint_like_tensor"
      ],
      "metadata": {
        "colab": {
          "base_uri": "https://localhost:8080/"
        },
        "id": "7tsOqp8GEo_S",
        "outputId": "03e1a10c-2ed2-4676-9382-976f6e89d1c5"
      },
      "execution_count": null,
      "outputs": [
        {
          "output_type": "execute_result",
          "data": {
            "text/plain": [
              "tensor([[2., 3., 2.],\n",
              "        [8., 1., 1.],\n",
              "        [1., 9., 5.]])"
            ]
          },
          "metadata": {},
          "execution_count": 27
        }
      ]
    },
    {
      "cell_type": "code",
      "source": [
        "zeroslike_tensor = torch.zeros_like (base_tensor)\n",
        "zeroslike_tensor"
      ],
      "metadata": {
        "colab": {
          "base_uri": "https://localhost:8080/"
        },
        "id": "wuXHZVPXFAAF",
        "outputId": "3646ed6c-ebc7-4cba-99a3-bd2b4f0556af"
      },
      "execution_count": null,
      "outputs": [
        {
          "output_type": "execute_result",
          "data": {
            "text/plain": [
              "tensor([[0., 0., 0.],\n",
              "        [0., 0., 0.],\n",
              "        [0., 0., 0.]])"
            ]
          },
          "metadata": {},
          "execution_count": 29
        }
      ]
    },
    {
      "cell_type": "code",
      "source": [
        "oneslike_tensor = torch.ones_like (base_tensor)\n",
        "oneslike_tensor"
      ],
      "metadata": {
        "colab": {
          "base_uri": "https://localhost:8080/"
        },
        "id": "mkcj89j9FMG4",
        "outputId": "51176ce3-f1e3-4825-e65f-cef064d2d185"
      },
      "execution_count": null,
      "outputs": [
        {
          "output_type": "execute_result",
          "data": {
            "text/plain": [
              "tensor([[1., 1., 1.],\n",
              "        [1., 1., 1.],\n",
              "        [1., 1., 1.]])"
            ]
          },
          "metadata": {},
          "execution_count": 30
        }
      ]
    },
    {
      "cell_type": "code",
      "source": [
        "#creating an empty tensor\n",
        "empty_torch = torch.empty(4,4)\n",
        "empty_torch"
      ],
      "metadata": {
        "colab": {
          "base_uri": "https://localhost:8080/"
        },
        "id": "QBTlk-nrFdVr",
        "outputId": "b5e5206d-613c-40e4-e305-7d0d2054d6d1"
      },
      "execution_count": null,
      "outputs": [
        {
          "output_type": "execute_result",
          "data": {
            "text/plain": [
              "tensor([[ 0.0000e+00,  0.0000e+00, -2.2702e+30,  3.1695e-41],\n",
              "        [-1.2775e+29,  3.1695e-41,  2.5141e-21,  4.5088e-41],\n",
              "        [ 1.4013e-45,  0.0000e+00,  1.2612e-44,  0.0000e+00],\n",
              "        [ 0.0000e+00,  0.0000e+00,  0.0000e+00,  0.0000e+00]])"
            ]
          },
          "metadata": {},
          "execution_count": 32
        }
      ]
    },
    {
      "cell_type": "code",
      "source": [
        "#diag will give us a diagonal tensor which its diagonal is the values that we defined\n",
        "a = torch.rand(3)\n",
        "a"
      ],
      "metadata": {
        "colab": {
          "base_uri": "https://localhost:8080/"
        },
        "id": "Bq_cnbDJFh5I",
        "outputId": "4ae786b9-5e06-45bf-dd00-d6425e407947"
      },
      "execution_count": null,
      "outputs": [
        {
          "output_type": "execute_result",
          "data": {
            "text/plain": [
              "tensor([0.9429, 0.3695, 0.8797])"
            ]
          },
          "metadata": {},
          "execution_count": 36
        }
      ]
    },
    {
      "cell_type": "code",
      "source": [
        "diag_tensor = torch.diag(a)\n",
        "diag_tensor"
      ],
      "metadata": {
        "colab": {
          "base_uri": "https://localhost:8080/"
        },
        "id": "7GbwxespF-tO",
        "outputId": "7f49b8e7-a297-42a3-8902-22773004373f"
      },
      "execution_count": null,
      "outputs": [
        {
          "output_type": "execute_result",
          "data": {
            "text/plain": [
              "tensor([[0.9429, 0.0000, 0.0000],\n",
              "        [0.0000, 0.3695, 0.0000],\n",
              "        [0.0000, 0.0000, 0.8797]])"
            ]
          },
          "metadata": {},
          "execution_count": 37
        }
      ]
    },
    {
      "cell_type": "code",
      "source": [
        "#torch.arange\n",
        "#torch.linspace"
      ],
      "metadata": {
        "id": "F6PJzsvJOl9A"
      },
      "execution_count": null,
      "outputs": []
    },
    {
      "cell_type": "markdown",
      "source": [
        "unsqueeze"
      ],
      "metadata": {
        "id": "DdHo4jtoWlUQ"
      }
    },
    {
      "cell_type": "code",
      "source": [
        " x = torch.tensor([1, 2, 3, 4])\n"
      ],
      "metadata": {
        "id": "ENLhI32VOtdA"
      },
      "execution_count": null,
      "outputs": []
    },
    {
      "cell_type": "code",
      "source": [
        "torch.unsqueeze(x, 0)\n"
      ],
      "metadata": {
        "colab": {
          "base_uri": "https://localhost:8080/"
        },
        "id": "UvGOzub3WAct",
        "outputId": "5b8900f3-6882-40c5-bd67-fc9a253fb5f3"
      },
      "execution_count": null,
      "outputs": [
        {
          "output_type": "execute_result",
          "data": {
            "text/plain": [
              "tensor([[1, 2, 3, 4]])"
            ]
          },
          "metadata": {},
          "execution_count": 39
        }
      ]
    },
    {
      "cell_type": "code",
      "source": [
        "torch.unsqueeze(x, 1)\n"
      ],
      "metadata": {
        "colab": {
          "base_uri": "https://localhost:8080/"
        },
        "id": "1VmbEUT9WEwr",
        "outputId": "5d6f44c2-6f1c-4ee4-ac28-af61a5466809"
      },
      "execution_count": null,
      "outputs": [
        {
          "output_type": "execute_result",
          "data": {
            "text/plain": [
              "tensor([[1],\n",
              "        [2],\n",
              "        [3],\n",
              "        [4]])"
            ]
          },
          "metadata": {},
          "execution_count": 40
        }
      ]
    },
    {
      "cell_type": "markdown",
      "source": [
        "squeeze"
      ],
      "metadata": {
        "id": "Q6yDrVaOWons"
      }
    },
    {
      "cell_type": "code",
      "source": [
        "x = torch.zeros(2, 1, 2, 1, 2)\n",
        "x.size()\n"
      ],
      "metadata": {
        "colab": {
          "base_uri": "https://localhost:8080/"
        },
        "id": "WcZgeKgpWpoa",
        "outputId": "c363cc5c-84b8-42c9-8e24-807916eee9b5"
      },
      "execution_count": null,
      "outputs": [
        {
          "output_type": "execute_result",
          "data": {
            "text/plain": [
              "torch.Size([2, 1, 2, 1, 2])"
            ]
          },
          "metadata": {},
          "execution_count": 41
        }
      ]
    },
    {
      "cell_type": "code",
      "source": [
        " y = torch.squeeze(x)\n",
        " y.size()\n"
      ],
      "metadata": {
        "colab": {
          "base_uri": "https://localhost:8080/"
        },
        "id": "AkXjhmDnWuJj",
        "outputId": "aa120bf0-eb13-4ee3-8c8b-59c002c28646"
      },
      "execution_count": null,
      "outputs": [
        {
          "output_type": "execute_result",
          "data": {
            "text/plain": [
              "torch.Size([2, 2, 2])"
            ]
          },
          "metadata": {},
          "execution_count": 42
        }
      ]
    },
    {
      "cell_type": "code",
      "source": [
        "y = torch.squeeze(x, 0)\n",
        "y.size()\n"
      ],
      "metadata": {
        "colab": {
          "base_uri": "https://localhost:8080/"
        },
        "id": "rAUvQc8pWzgS",
        "outputId": "659ce1d5-2ca2-4d7d-adb3-ac0671f189db"
      },
      "execution_count": null,
      "outputs": [
        {
          "output_type": "execute_result",
          "data": {
            "text/plain": [
              "torch.Size([2, 1, 2, 1, 2])"
            ]
          },
          "metadata": {},
          "execution_count": 43
        }
      ]
    },
    {
      "cell_type": "code",
      "source": [
        "y = torch.squeeze(x, 1)\n",
        "y.size()\n"
      ],
      "metadata": {
        "colab": {
          "base_uri": "https://localhost:8080/"
        },
        "id": "l1LjJB_DW98f",
        "outputId": "2a0d2f4e-4fc6-4d97-cbc6-31c7fd0cac13"
      },
      "execution_count": null,
      "outputs": [
        {
          "output_type": "execute_result",
          "data": {
            "text/plain": [
              "torch.Size([2, 2, 1, 2])"
            ]
          },
          "metadata": {},
          "execution_count": 44
        }
      ]
    },
    {
      "cell_type": "code",
      "source": [
        "y = torch.squeeze(x, (1, 2, 3))\n"
      ],
      "metadata": {
        "id": "rJIchLdzXHwc"
      },
      "execution_count": null,
      "outputs": []
    }
  ]
}